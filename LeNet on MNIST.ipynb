{
 "cells": [
  {
   "cell_type": "code",
   "execution_count": 10,
   "metadata": {},
   "outputs": [],
   "source": [
    "from keras.layers.convolutional import Convolution2D\n",
    "from keras.layers.convolutional import MaxPooling2D\n",
    "from keras.layers.core import Activation\n",
    "from keras.layers.core import Flatten\n",
    "from keras.layers.core import Dense\n",
    "from keras.models import Sequential\n",
    "from keras.optimizers import SGD\n",
    "from keras.utils import np_utils\n",
    "from sklearn.model_selection import train_test_split\n",
    "from sklearn import datasets\n",
    "import numpy as np\n",
    "import tensorflow as tf\n",
    "import matplotlib.pyplot as plt"
   ]
  },
  {
   "cell_type": "code",
   "execution_count": 11,
   "metadata": {},
   "outputs": [],
   "source": [
    "from keras import backend as k\n",
    "from keras.utils import np_utils"
   ]
  },
  {
   "cell_type": "code",
   "execution_count": 12,
   "metadata": {},
   "outputs": [],
   "source": [
    "data = tf.keras.datasets.mnist\n",
    "\n",
    "(X_train, y_train), (X_test, y_test) = data.load_data()"
   ]
  },
  {
   "cell_type": "code",
   "execution_count": 13,
   "metadata": {},
   "outputs": [
    {
     "data": {
      "text/plain": [
       "(60000, 28, 28)"
      ]
     },
     "execution_count": 13,
     "metadata": {},
     "output_type": "execute_result"
    }
   ],
   "source": [
    "X_train.shape"
   ]
  },
  {
   "cell_type": "code",
   "execution_count": 14,
   "metadata": {},
   "outputs": [
    {
     "data": {
      "text/plain": [
       "array([[  0,   0,   0,   0,   0,   0,   0,   0,   0,   0,   0,   0,   0,\n",
       "          0,   0,   0,   0,   0,   0,   0,   0,   0,   0,   0,   0,   0,\n",
       "          0,   0],\n",
       "       [  0,   0,   0,   0,   0,   0,   0,   0,   0,   0,   0,   0,   0,\n",
       "          0,   0,   0,   0,   0,   0,   0,   0,   0,   0,   0,   0,   0,\n",
       "          0,   0],\n",
       "       [  0,   0,   0,   0,   0,   0,   0,   0,   0,   0,   0,   0,   0,\n",
       "          0,   0,   0,   0,   0,   0,   0,   0,   0,   0,   0,   0,   0,\n",
       "          0,   0],\n",
       "       [  0,   0,   0,   0,   0,   0,   0,   0,   0,   0,   0,   0,   0,\n",
       "          0,   0,   0,   0,   0,   0,   0,   0,   0,   0,   0,   0,   0,\n",
       "          0,   0],\n",
       "       [  0,   0,   0,   0,   0,   0,   0,   0,   0,   0,   0,   0,   0,\n",
       "          0,   0,   0,   0,   0,   0,   0,   0,   0,   0,   0,   0,   0,\n",
       "          0,   0],\n",
       "       [  0,   0,   0,   0,   0,   0,   0,   0,   0,   0,   0,   0,   3,\n",
       "         18,  18,  18, 126, 136, 175,  26, 166, 255, 247, 127,   0,   0,\n",
       "          0,   0],\n",
       "       [  0,   0,   0,   0,   0,   0,   0,   0,  30,  36,  94, 154, 170,\n",
       "        253, 253, 253, 253, 253, 225, 172, 253, 242, 195,  64,   0,   0,\n",
       "          0,   0],\n",
       "       [  0,   0,   0,   0,   0,   0,   0,  49, 238, 253, 253, 253, 253,\n",
       "        253, 253, 253, 253, 251,  93,  82,  82,  56,  39,   0,   0,   0,\n",
       "          0,   0],\n",
       "       [  0,   0,   0,   0,   0,   0,   0,  18, 219, 253, 253, 253, 253,\n",
       "        253, 198, 182, 247, 241,   0,   0,   0,   0,   0,   0,   0,   0,\n",
       "          0,   0],\n",
       "       [  0,   0,   0,   0,   0,   0,   0,   0,  80, 156, 107, 253, 253,\n",
       "        205,  11,   0,  43, 154,   0,   0,   0,   0,   0,   0,   0,   0,\n",
       "          0,   0],\n",
       "       [  0,   0,   0,   0,   0,   0,   0,   0,   0,  14,   1, 154, 253,\n",
       "         90,   0,   0,   0,   0,   0,   0,   0,   0,   0,   0,   0,   0,\n",
       "          0,   0],\n",
       "       [  0,   0,   0,   0,   0,   0,   0,   0,   0,   0,   0, 139, 253,\n",
       "        190,   2,   0,   0,   0,   0,   0,   0,   0,   0,   0,   0,   0,\n",
       "          0,   0],\n",
       "       [  0,   0,   0,   0,   0,   0,   0,   0,   0,   0,   0,  11, 190,\n",
       "        253,  70,   0,   0,   0,   0,   0,   0,   0,   0,   0,   0,   0,\n",
       "          0,   0],\n",
       "       [  0,   0,   0,   0,   0,   0,   0,   0,   0,   0,   0,   0,  35,\n",
       "        241, 225, 160, 108,   1,   0,   0,   0,   0,   0,   0,   0,   0,\n",
       "          0,   0],\n",
       "       [  0,   0,   0,   0,   0,   0,   0,   0,   0,   0,   0,   0,   0,\n",
       "         81, 240, 253, 253, 119,  25,   0,   0,   0,   0,   0,   0,   0,\n",
       "          0,   0],\n",
       "       [  0,   0,   0,   0,   0,   0,   0,   0,   0,   0,   0,   0,   0,\n",
       "          0,  45, 186, 253, 253, 150,  27,   0,   0,   0,   0,   0,   0,\n",
       "          0,   0],\n",
       "       [  0,   0,   0,   0,   0,   0,   0,   0,   0,   0,   0,   0,   0,\n",
       "          0,   0,  16,  93, 252, 253, 187,   0,   0,   0,   0,   0,   0,\n",
       "          0,   0],\n",
       "       [  0,   0,   0,   0,   0,   0,   0,   0,   0,   0,   0,   0,   0,\n",
       "          0,   0,   0,   0, 249, 253, 249,  64,   0,   0,   0,   0,   0,\n",
       "          0,   0],\n",
       "       [  0,   0,   0,   0,   0,   0,   0,   0,   0,   0,   0,   0,   0,\n",
       "          0,  46, 130, 183, 253, 253, 207,   2,   0,   0,   0,   0,   0,\n",
       "          0,   0],\n",
       "       [  0,   0,   0,   0,   0,   0,   0,   0,   0,   0,   0,   0,  39,\n",
       "        148, 229, 253, 253, 253, 250, 182,   0,   0,   0,   0,   0,   0,\n",
       "          0,   0],\n",
       "       [  0,   0,   0,   0,   0,   0,   0,   0,   0,   0,  24, 114, 221,\n",
       "        253, 253, 253, 253, 201,  78,   0,   0,   0,   0,   0,   0,   0,\n",
       "          0,   0],\n",
       "       [  0,   0,   0,   0,   0,   0,   0,   0,  23,  66, 213, 253, 253,\n",
       "        253, 253, 198,  81,   2,   0,   0,   0,   0,   0,   0,   0,   0,\n",
       "          0,   0],\n",
       "       [  0,   0,   0,   0,   0,   0,  18, 171, 219, 253, 253, 253, 253,\n",
       "        195,  80,   9,   0,   0,   0,   0,   0,   0,   0,   0,   0,   0,\n",
       "          0,   0],\n",
       "       [  0,   0,   0,   0,  55, 172, 226, 253, 253, 253, 253, 244, 133,\n",
       "         11,   0,   0,   0,   0,   0,   0,   0,   0,   0,   0,   0,   0,\n",
       "          0,   0],\n",
       "       [  0,   0,   0,   0, 136, 253, 253, 253, 212, 135, 132,  16,   0,\n",
       "          0,   0,   0,   0,   0,   0,   0,   0,   0,   0,   0,   0,   0,\n",
       "          0,   0],\n",
       "       [  0,   0,   0,   0,   0,   0,   0,   0,   0,   0,   0,   0,   0,\n",
       "          0,   0,   0,   0,   0,   0,   0,   0,   0,   0,   0,   0,   0,\n",
       "          0,   0],\n",
       "       [  0,   0,   0,   0,   0,   0,   0,   0,   0,   0,   0,   0,   0,\n",
       "          0,   0,   0,   0,   0,   0,   0,   0,   0,   0,   0,   0,   0,\n",
       "          0,   0],\n",
       "       [  0,   0,   0,   0,   0,   0,   0,   0,   0,   0,   0,   0,   0,\n",
       "          0,   0,   0,   0,   0,   0,   0,   0,   0,   0,   0,   0,   0,\n",
       "          0,   0]], dtype=uint8)"
      ]
     },
     "execution_count": 14,
     "metadata": {},
     "output_type": "execute_result"
    }
   ],
   "source": [
    "X_train[0]"
   ]
  },
  {
   "cell_type": "code",
   "execution_count": 15,
   "metadata": {},
   "outputs": [
    {
     "data": {
      "text/plain": [
       "<matplotlib.image.AxesImage at 0x2c1f9b88a20>"
      ]
     },
     "execution_count": 15,
     "metadata": {},
     "output_type": "execute_result"
    },
    {
     "data": {
      "image/png": "[encoded data removed]",
      "text/plain": [
       "<Figure size 432x288 with 1 Axes>"
      ]
     },
     "metadata": {
      "needs_background": "light"
     },
     "output_type": "display_data"
    }
   ],
   "source": [
    "i = np.random.randint(1, len(X_train))\n",
    "plt.imshow(X_train[i],cmap=\"gray\")"
   ]
  },
  {
   "cell_type": "code",
   "execution_count": 16,
   "metadata": {},
   "outputs": [],
   "source": [
    "X_train = X_train.astype('float32')\n",
    "X_test = X_test.astype('float32')\n",
    "X_train /= 255\n",
    "X_test /= 255\n",
    "# X_train = X_train[:, np.newaxis, :, :]\n",
    "# X_test = X_test[:, np.newaxis, :, :]\n",
    "X_train = X_train[:, :, :, np.newaxis]\n",
    "X_test = X_test[:, :, :, np.newaxis]\n",
    "y_train = np_utils.to_categorical(y_train, 10)\n",
    "y_test = np_utils.to_categorical(y_test, 10)"
   ]
  },
  {
   "cell_type": "code",
   "execution_count": 17,
   "metadata": {},
   "outputs": [
    {
     "data": {
      "text/plain": [
       "(60000, 28, 28, 1)"
      ]
     },
     "execution_count": 17,
     "metadata": {},
     "output_type": "execute_result"
    }
   ],
   "source": [
    "X_train.shape"
   ]
  },
  {
   "cell_type": "code",
   "execution_count": 18,
   "metadata": {},
   "outputs": [],
   "source": [
    "input_shape = (28, 28,1)\n",
    "batch_size =128\n",
    "epochs =10"
   ]
  },
  {
   "cell_type": "code",
   "execution_count": 19,
   "metadata": {},
   "outputs": [],
   "source": [
    "model = Sequential()\n",
    "\n",
    "\n",
    "model.add(Convolution2D(filters = 20,kernel_size = (5, 5),padding = \"same\",input_shape = (28, 28, 1)))\n",
    "model.add(Activation(activation = \"relu\"))\n",
    "\n",
    "\n",
    "model.add(MaxPooling2D(pool_size = (2, 2),strides =  (2, 2)))\n",
    "\n",
    "\n",
    "model.add(Convolution2D(filters = 50,kernel_size = (5, 5),padding = \"same\"))\n",
    "model.add(Activation(activation = \"relu\"))\n",
    "\n",
    "model.add(MaxPooling2D(pool_size = (2, 2),strides = (2, 2)))\n",
    "\n",
    "model.add(Flatten())\n",
    "\n",
    "model.add(Dense(500))\n",
    "model.add(Activation(activation = \"relu\"))\n",
    "\n",
    "\n",
    "model.add(Dense(10))\n",
    "model.add(Activation(\"softmax\"))\n"
   ]
  },
  {
   "cell_type": "code",
   "execution_count": 20,
   "metadata": {},
   "outputs": [],
   "source": [
    "model.compile(loss = \"categorical_crossentropy\", optimizer = SGD(lr = 0.01),metrics = [\"accuracy\"])"
   ]
  },
  {
   "cell_type": "code",
   "execution_count": 21,
   "metadata": {},
   "outputs": [
    {
     "name": "stdout",
     "output_type": "stream",
     "text": [
      "Epoch 1/20\n",
      "469/469 [==============================] - 57s 120ms/step - loss: 0.9156 - accuracy: 0.7528\n",
      "Epoch 2/20\n",
      "469/469 [==============================] - 58s 124ms/step - loss: 0.2577 - accuracy: 0.9237\n",
      "Epoch 3/20\n",
      "469/469 [==============================] - 55s 117ms/step - loss: 0.1818 - accuracy: 0.9469\n",
      "Epoch 4/20\n",
      "469/469 [==============================] - 55s 117ms/step - loss: 0.1423 - accuracy: 0.9580\n",
      "Epoch 5/20\n",
      "469/469 [==============================] - 55s 117ms/step - loss: 0.1173 - accuracy: 0.9653\n",
      "Epoch 6/20\n",
      "469/469 [==============================] - 55s 116ms/step - loss: 0.1015 - accuracy: 0.9692\n",
      "Epoch 7/20\n",
      "469/469 [==============================] - 55s 118ms/step - loss: 0.0886 - accuracy: 0.9738\n",
      "Epoch 8/20\n",
      "469/469 [==============================] - 55s 117ms/step - loss: 0.0794 - accuracy: 0.9765\n",
      "Epoch 9/20\n",
      "469/469 [==============================] - 56s 119ms/step - loss: 0.0725 - accuracy: 0.9784\n",
      "Epoch 10/20\n",
      "469/469 [==============================] - 61s 131ms/step - loss: 0.0664 - accuracy: 0.9800\n",
      "Epoch 11/20\n",
      "469/469 [==============================] - 55s 118ms/step - loss: 0.0624 - accuracy: 0.9814\n",
      "Epoch 12/20\n",
      "469/469 [==============================] - 55s 117ms/step - loss: 0.0576 - accuracy: 0.9824\n",
      "Epoch 13/20\n",
      "469/469 [==============================] - 55s 118ms/step - loss: 0.0541 - accuracy: 0.9841\n",
      "Epoch 14/20\n",
      "469/469 [==============================] - 55s 118ms/step - loss: 0.0513 - accuracy: 0.9845\n",
      "Epoch 15/20\n",
      "469/469 [==============================] - 56s 118ms/step - loss: 0.0487 - accuracy: 0.9853\n",
      "Epoch 16/20\n",
      "469/469 [==============================] - 55s 118ms/step - loss: 0.0461 - accuracy: 0.9859\n",
      "Epoch 17/20\n",
      "469/469 [==============================] - 59s 125ms/step - loss: 0.0443 - accuracy: 0.9865\n",
      "Epoch 18/20\n",
      "469/469 [==============================] - 55s 118ms/step - loss: 0.0420 - accuracy: 0.9870\n",
      "Epoch 19/20\n",
      "469/469 [==============================] - 56s 119ms/step - loss: 0.0398 - accuracy: 0.9878\n",
      "Epoch 20/20\n",
      "469/469 [==============================] - 55s 118ms/step - loss: 0.0387 - accuracy: 0.9884\n"
     ]
    },
    {
     "data": {
      "text/plain": [
       "<tensorflow.python.keras.callbacks.History at 0x2c18c3ba278>"
      ]
     },
     "execution_count": 21,
     "metadata": {},
     "output_type": "execute_result"
    }
   ],
   "source": [
    "model.fit(X_train, y_train, batch_size = 128, epochs = 20,verbose = 1)\n"
   ]
  },
  {
   "cell_type": "code",
   "execution_count": 22,
   "metadata": {},
   "outputs": [
    {
     "name": "stdout",
     "output_type": "stream",
     "text": [
      "79/79 [==============================] - 3s 35ms/step - loss: 0.0419 - accuracy: 0.9872\n"
     ]
    }
   ],
   "source": [
    "(loss, accuracy) = model.evaluate(X_test, y_test,batch_size = 128, verbose = 1)"
   ]
  },
  {
   "cell_type": "code",
   "execution_count": 23,
   "metadata": {},
   "outputs": [
    {
     "name": "stdout",
     "output_type": "stream",
     "text": [
      "0.9872000217437744\n"
     ]
    }
   ],
   "source": [
    "print(accuracy)"
   ]
  },
  {
   "cell_type": "code",
   "execution_count": null,
   "metadata": {},
   "outputs": [],
   "source": [
    "#We have obtained 98.72% accuracy on the mnist dataset.\n",
    "#The same model only gave 55.24% accuracy on the cifar10 dataset."
   ]
  },
  {
   "cell_type": "code",
   "execution_count": 24,
   "metadata": {},
   "outputs": [],
   "source": [
    "from keras.callbacks import LearningRateScheduler, TensorBoard\n",
    "from keras.preprocessing.image import ImageDataGenerator"
   ]
  },
  {
   "cell_type": "code",
   "execution_count": 25,
   "metadata": {},
   "outputs": [],
   "source": [
    "data_aug = ImageDataGenerator(horizontal_flip=True,width_shift_range=0.125,height_shift_range=0.125,fill_mode='constant',cval=0.)\n",
    "data_aug.fit(X_train)"
   ]
  },
  {
   "cell_type": "code",
   "execution_count": 26,
   "metadata": {},
   "outputs": [
    {
     "name": "stdout",
     "output_type": "stream",
     "text": [
      "WARNING:tensorflow:From <ipython-input-26-0e0069c47c33>:2: Model.fit_generator (from tensorflow.python.keras.engine.training) is deprecated and will be removed in a future version.\n",
      "Instructions for updating:\n",
      "Please use Model.fit, which supports generators.\n",
      "Epoch 1/10\n",
      "391/391 [==============================] - 53s 135ms/step - loss: 0.6208 - accuracy: 0.8106 - val_loss: 0.1801 - val_accuracy: 0.9420\n",
      "Epoch 2/10\n",
      "391/391 [==============================] - 52s 132ms/step - loss: 0.3485 - accuracy: 0.8891 - val_loss: 0.1481 - val_accuracy: 0.9538\n",
      "Epoch 3/10\n",
      "391/391 [==============================] - 53s 135ms/step - loss: 0.2896 - accuracy: 0.9087 - val_loss: 0.1246 - val_accuracy: 0.9608\n",
      "Epoch 4/10\n",
      "391/391 [==============================] - 52s 134ms/step - loss: 0.2584 - accuracy: 0.9192 - val_loss: 0.1328 - val_accuracy: 0.9577\n",
      "Epoch 5/10\n",
      "391/391 [==============================] - 52s 134ms/step - loss: 0.2291 - accuracy: 0.9281 - val_loss: 0.1218 - val_accuracy: 0.9607\n",
      "Epoch 6/10\n",
      "391/391 [==============================] - 52s 134ms/step - loss: 0.2141 - accuracy: 0.9330 - val_loss: 0.1050 - val_accuracy: 0.9654\n",
      "Epoch 7/10\n",
      "391/391 [==============================] - 52s 134ms/step - loss: 0.1994 - accuracy: 0.9386 - val_loss: 0.0977 - val_accuracy: 0.9676\n",
      "Epoch 8/10\n",
      "391/391 [==============================] - 53s 136ms/step - loss: 0.1851 - accuracy: 0.9419 - val_loss: 0.1064 - val_accuracy: 0.9646\n",
      "Epoch 9/10\n",
      "391/391 [==============================] - 53s 135ms/step - loss: 0.1784 - accuracy: 0.9460 - val_loss: 0.0935 - val_accuracy: 0.9684\n",
      "Epoch 10/10\n",
      "391/391 [==============================] - 53s 135ms/step - loss: 0.1676 - accuracy: 0.9474 - val_loss: 0.0871 - val_accuracy: 0.9711\n"
     ]
    },
    {
     "data": {
      "text/plain": [
       "<tensorflow.python.keras.callbacks.History at 0x2c1f9beff98>"
      ]
     },
     "execution_count": 26,
     "metadata": {},
     "output_type": "execute_result"
    }
   ],
   "source": [
    "model.fit_generator(data_aug.flow(X_train, y_train,batch_size=batch_size),steps_per_epoch=391,\n",
    "                        epochs=epochs,validation_data=(X_test, y_test))"
   ]
  },
  {
   "cell_type": "code",
   "execution_count": null,
   "metadata": {},
   "outputs": [],
   "source": [
    "#after augmenting after flipping the accuracy decreased to 97.11%"
   ]
  },
  {
   "cell_type": "code",
   "execution_count": 27,
   "metadata": {},
   "outputs": [],
   "source": [
    "data_aug2 = ImageDataGenerator(featurewise_center=False,  samplewise_center=False,  \n",
    "        featurewise_std_normalization=False, \n",
    "        samplewise_std_normalization=False,  # divide each input by its std\n",
    "        zca_whitening=False,  # apply ZCA whitening\n",
    "        rotation_range=10,  # randomly rotate images in the range (degrees, 0 to 180)\n",
    "        zoom_range = 0.1, # Randomly zoom image \n",
    "        width_shift_range=0.1,  # randomly shift images horizontally (fraction of total width)\n",
    "        height_shift_range=0.1,  # randomly shift images vertically (fraction of total height)\n",
    "        horizontal_flip=False,  # randomly flip images\n",
    "        vertical_flip=False)  # randomly flip images\n",
    "\n",
    "\n",
    "data_aug2.fit(X_train)"
   ]
  },
  {
   "cell_type": "code",
   "execution_count": 30,
   "metadata": {},
   "outputs": [
    {
     "name": "stdout",
     "output_type": "stream",
     "text": [
      "Epoch 1/10\n",
      "391/391 [==============================] - 53s 136ms/step - loss: 0.1110 - accuracy: 0.9654 - val_loss: 0.0424 - val_accuracy: 0.9858\n",
      "Epoch 2/10\n",
      "391/391 [==============================] - 52s 134ms/step - loss: 0.0973 - accuracy: 0.9698 - val_loss: 0.0424 - val_accuracy: 0.9855\n",
      "Epoch 3/10\n",
      "391/391 [==============================] - 53s 134ms/step - loss: 0.0867 - accuracy: 0.9738 - val_loss: 0.0386 - val_accuracy: 0.9879\n",
      "Epoch 4/10\n",
      "391/391 [==============================] - 53s 136ms/step - loss: 0.0820 - accuracy: 0.9745 - val_loss: 0.0348 - val_accuracy: 0.9883\n",
      "Epoch 5/10\n",
      "391/391 [==============================] - 53s 135ms/step - loss: 0.0753 - accuracy: 0.9771 - val_loss: 0.0368 - val_accuracy: 0.9873\n",
      "Epoch 6/10\n",
      "391/391 [==============================] - 53s 136ms/step - loss: 0.0745 - accuracy: 0.9772 - val_loss: 0.0317 - val_accuracy: 0.9881\n",
      "Epoch 7/10\n",
      "391/391 [==============================] - 53s 135ms/step - loss: 0.0725 - accuracy: 0.9778 - val_loss: 0.0314 - val_accuracy: 0.9900\n",
      "Epoch 8/10\n",
      "391/391 [==============================] - 57s 146ms/step - loss: 0.0693 - accuracy: 0.9786 - val_loss: 0.0318 - val_accuracy: 0.9890\n",
      "Epoch 9/10\n",
      "391/391 [==============================] - 58s 149ms/step - loss: 0.0664 - accuracy: 0.9799 - val_loss: 0.0313 - val_accuracy: 0.9895\n",
      "Epoch 10/10\n",
      "391/391 [==============================] - 60s 154ms/step - loss: 0.0668 - accuracy: 0.9797 - val_loss: 0.0287 - val_accuracy: 0.9894\n"
     ]
    },
    {
     "data": {
      "text/plain": [
       "<tensorflow.python.keras.callbacks.History at 0x2c18c7079e8>"
      ]
     },
     "execution_count": 30,
     "metadata": {},
     "output_type": "execute_result"
    }
   ],
   "source": [
    "model.fit_generator(data_aug2.flow(X_train, y_train,batch_size=batch_size),steps_per_epoch=391,\n",
    "                        epochs=epochs,validation_data=(X_test, y_test))"
   ]
  },
  {
   "cell_type": "code",
   "execution_count": null,
   "metadata": {},
   "outputs": [],
   "source": [
    "#but after further data augmentation the accuracy increased to 98.94%"
   ]
  }
 ],
 "metadata": {
  "kernelspec": {
   "display_name": "Python 3",
   "language": "python",
   "name": "python3"
  },
  "language_info": {
   "codemirror_mode": {
    "name": "ipython",
    "version": 3
   },
   "file_extension": ".py",
   "mimetype": "text/x-python",
   "name": "python",
   "nbconvert_exporter": "python",
   "pygments_lexer": "ipython3",
   "version": "3.7.3"
  }
 },
 "nbformat": 4,
 "nbformat_minor": 2
}
