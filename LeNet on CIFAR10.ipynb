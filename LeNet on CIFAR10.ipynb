{
 "cells": [
  {
   "cell_type": "code",
   "execution_count": 2,
   "metadata": {},
   "outputs": [],
   "source": [
    "import torch"
   ]
  },
  {
   "cell_type": "code",
   "execution_count": 18,
   "metadata": {},
   "outputs": [],
   "source": [
    "import numpy as np\n",
    "import pandas as pd\n",
    "import matplotlib.pyplot as plt\n",
    "import seaborn as sn\n",
    "\n",
    "import tensorflow as tf\n",
    "import keras\n",
    "from keras.datasets import cifar10\n",
    "from keras.models import Sequential\n",
    "from keras.layers import Dense, Dropout, Flatten\n",
    "from keras.layers import Conv2D, MaxPooling2D\n",
    "from keras import optimizers\n",
    "from keras.optimizers import SGD"
   ]
  },
  {
   "cell_type": "code",
   "execution_count": 3,
   "metadata": {},
   "outputs": [],
   "source": [
    "data = tf.keras.datasets.cifar10\n",
    "(x_train, y_train), (x_test, y_test) = data.load_data()"
   ]
  },
  {
   "cell_type": "code",
   "execution_count": 4,
   "metadata": {},
   "outputs": [
    {
     "data": {
      "text/plain": [
       "(50000, 32, 32, 3)"
      ]
     },
     "execution_count": 4,
     "metadata": {},
     "output_type": "execute_result"
    }
   ],
   "source": [
    "x_train.shape"
   ]
  },
  {
   "cell_type": "code",
   "execution_count": 5,
   "metadata": {},
   "outputs": [],
   "source": [
    "load_label_names =['airplane', 'automobile', 'bird', 'cat', 'deer', 'dog', 'frog', 'horse', 'ship', 'truck']"
   ]
  },
  {
   "cell_type": "code",
   "execution_count": 6,
   "metadata": {},
   "outputs": [
    {
     "data": {
      "text/plain": [
       "array([[[ 59,  62,  63],\n",
       "        [ 43,  46,  45],\n",
       "        [ 50,  48,  43],\n",
       "        ...,\n",
       "        [158, 132, 108],\n",
       "        [152, 125, 102],\n",
       "        [148, 124, 103]],\n",
       "\n",
       "       [[ 16,  20,  20],\n",
       "        [  0,   0,   0],\n",
       "        [ 18,   8,   0],\n",
       "        ...,\n",
       "        [123,  88,  55],\n",
       "        [119,  83,  50],\n",
       "        [122,  87,  57]],\n",
       "\n",
       "       [[ 25,  24,  21],\n",
       "        [ 16,   7,   0],\n",
       "        [ 49,  27,   8],\n",
       "        ...,\n",
       "        [118,  84,  50],\n",
       "        [120,  84,  50],\n",
       "        [109,  73,  42]],\n",
       "\n",
       "       ...,\n",
       "\n",
       "       [[208, 170,  96],\n",
       "        [201, 153,  34],\n",
       "        [198, 161,  26],\n",
       "        ...,\n",
       "        [160, 133,  70],\n",
       "        [ 56,  31,   7],\n",
       "        [ 53,  34,  20]],\n",
       "\n",
       "       [[180, 139,  96],\n",
       "        [173, 123,  42],\n",
       "        [186, 144,  30],\n",
       "        ...,\n",
       "        [184, 148,  94],\n",
       "        [ 97,  62,  34],\n",
       "        [ 83,  53,  34]],\n",
       "\n",
       "       [[177, 144, 116],\n",
       "        [168, 129,  94],\n",
       "        [179, 142,  87],\n",
       "        ...,\n",
       "        [216, 184, 140],\n",
       "        [151, 118,  84],\n",
       "        [123,  92,  72]]], dtype=uint8)"
      ]
     },
     "execution_count": 6,
     "metadata": {},
     "output_type": "execute_result"
    }
   ],
   "source": [
    "x_train[0]"
   ]
  },
  {
   "cell_type": "code",
   "execution_count": 7,
   "metadata": {},
   "outputs": [
    {
     "data": {
      "text/plain": [
       "array([[3],\n",
       "       [8],\n",
       "       [8],\n",
       "       ...,\n",
       "       [5],\n",
       "       [1],\n",
       "       [7]], dtype=uint8)"
      ]
     },
     "execution_count": 7,
     "metadata": {},
     "output_type": "execute_result"
    }
   ],
   "source": [
    "y_test"
   ]
  },
  {
   "cell_type": "code",
   "execution_count": 8,
   "metadata": {},
   "outputs": [
    {
     "data": {
      "text/plain": [
       "<matplotlib.image.AxesImage at 0x1966a882ba8>"
      ]
     },
     "execution_count": 8,
     "metadata": {},
     "output_type": "execute_result"
    },
    {
     "data": {
      "image/png": "[encoded data removed]",
      "text/plain": [
       "<Figure size 432x288 with 1 Axes>"
      ]
     },
     "metadata": {
      "needs_background": "light"
     },
     "output_type": "display_data"
    }
   ],
   "source": [
    "i = np.random.randint(1, len(x_train))\n",
    "plt.imshow(x_train[i])\n"
   ]
  },
  {
   "cell_type": "code",
   "execution_count": 9,
   "metadata": {},
   "outputs": [],
   "source": [
    "y_train = keras.utils.to_categorical(y_train, 10)\n",
    "y_test = keras.utils.to_categorical(y_test, 10)\n",
    "x_train = x_train.astype('float32')\n",
    "x_test = x_test.astype('float32')"
   ]
  },
  {
   "cell_type": "code",
   "execution_count": 10,
   "metadata": {},
   "outputs": [
    {
     "data": {
      "text/plain": [
       "(50000, 10)"
      ]
     },
     "execution_count": 10,
     "metadata": {},
     "output_type": "execute_result"
    }
   ],
   "source": [
    "y_train.shape"
   ]
  },
  {
   "cell_type": "code",
   "execution_count": 11,
   "metadata": {},
   "outputs": [
    {
     "data": {
      "text/plain": [
       "(10000, 32, 32, 3)"
      ]
     },
     "execution_count": 11,
     "metadata": {},
     "output_type": "execute_result"
    }
   ],
   "source": [
    "#normalization\n",
    "x_train = x_train /255\n",
    "x_test = x_test /255\n",
    "x_test.shape"
   ]
  },
  {
   "cell_type": "code",
   "execution_count": 12,
   "metadata": {},
   "outputs": [
    {
     "data": {
      "text/plain": [
       "(50000, 32, 32, 3)"
      ]
     },
     "execution_count": 12,
     "metadata": {},
     "output_type": "execute_result"
    }
   ],
   "source": [
    "x_train.shape"
   ]
  },
  {
   "cell_type": "code",
   "execution_count": 13,
   "metadata": {},
   "outputs": [],
   "source": [
    "input_shape = (32,32,3)\n",
    "batch_size =100\n",
    "epochs =10\n"
   ]
  },
  {
   "cell_type": "code",
   "execution_count": 14,
   "metadata": {},
   "outputs": [],
   "source": [
    "model  = Sequential()\n",
    "\n",
    "model.add(Conv2D(20,(5,5),activation = 'relu',input_shape = input_shape))\n",
    "model.add(MaxPooling2D(pool_size = (2, 2),strides =  (2, 2)))\n",
    "\n",
    "model.add(Conv2D(50,(5,5),activation = 'relu'))\n",
    "model.add(MaxPooling2D(pool_size = (2, 2),strides =  (2, 2)))\n",
    "\n",
    "model.add(Flatten())\n",
    "\n",
    "model.add(Dense(500,activation = 'relu'))\n",
    "model.add(Dropout(0.2))\n",
    "model.add(Dense(84,activation = 'relu'))\n",
    "\n",
    "model.add(Dense(10,activation = 'softmax'))"
   ]
  },
  {
   "cell_type": "code",
   "execution_count": 15,
   "metadata": {},
   "outputs": [
    {
     "name": "stdout",
     "output_type": "stream",
     "text": [
      "Model: \"sequential\"\n",
      "_________________________________________________________________\n",
      "Layer (type)                 Output Shape              Param #   \n",
      "=================================================================\n",
      "conv2d (Conv2D)              (None, 28, 28, 20)        1520      \n",
      "_________________________________________________________________\n",
      "max_pooling2d (MaxPooling2D) (None, 14, 14, 20)        0         \n",
      "_________________________________________________________________\n",
      "conv2d_1 (Conv2D)            (None, 10, 10, 50)        25050     \n",
      "_________________________________________________________________\n",
      "max_pooling2d_1 (MaxPooling2 (None, 5, 5, 50)          0         \n",
      "_________________________________________________________________\n",
      "flatten (Flatten)            (None, 1250)              0         \n",
      "_________________________________________________________________\n",
      "dense (Dense)                (None, 500)               625500    \n",
      "_________________________________________________________________\n",
      "dropout (Dropout)            (None, 500)               0         \n",
      "_________________________________________________________________\n",
      "dense_1 (Dense)              (None, 84)                42084     \n",
      "_________________________________________________________________\n",
      "dense_2 (Dense)              (None, 10)                850       \n",
      "=================================================================\n",
      "Total params: 695,004\n",
      "Trainable params: 695,004\n",
      "Non-trainable params: 0\n",
      "_________________________________________________________________\n"
     ]
    }
   ],
   "source": [
    "model.summary()"
   ]
  },
  {
   "cell_type": "code",
   "execution_count": 19,
   "metadata": {},
   "outputs": [],
   "source": [
    "# model.compile(loss= 'categorical_crossentropy',optimizer = 'adam' , metrics = ['accuracy'])\n",
    "model.compile(loss = \"categorical_crossentropy\", optimizer = SGD(lr = 0.01),metrics = [\"accuracy\"])\n"
   ]
  },
  {
   "cell_type": "code",
   "execution_count": 20,
   "metadata": {},
   "outputs": [
    {
     "name": "stdout",
     "output_type": "stream",
     "text": [
      "Epoch 1/10\n",
      "500/500 [==============================] - 88s 175ms/step - loss: 2.1712 - accuracy: 0.1868 - val_loss: 1.9685 - val_accuracy: 0.2923\n",
      "Epoch 2/10\n",
      "500/500 [==============================] - 82s 163ms/step - loss: 1.9253 - accuracy: 0.3007 - val_loss: 1.8023 - val_accuracy: 0.3551\n",
      "Epoch 3/10\n",
      "500/500 [==============================] - 82s 163ms/step - loss: 1.7567 - accuracy: 0.3693 - val_loss: 1.6021 - val_accuracy: 0.4285\n",
      "Epoch 4/10\n",
      "500/500 [==============================] - 82s 164ms/step - loss: 1.6165 - accuracy: 0.4154 - val_loss: 1.5104 - val_accuracy: 0.4612\n",
      "Epoch 5/10\n",
      "500/500 [==============================] - 82s 164ms/step - loss: 1.5266 - accuracy: 0.4469 - val_loss: 1.5398 - val_accuracy: 0.4596\n",
      "Epoch 6/10\n",
      "500/500 [==============================] - 81s 162ms/step - loss: 1.4649 - accuracy: 0.4713 - val_loss: 1.4050 - val_accuracy: 0.4952\n",
      "Epoch 7/10\n",
      "500/500 [==============================] - 81s 162ms/step - loss: 1.4156 - accuracy: 0.4933 - val_loss: 1.3852 - val_accuracy: 0.5075\n",
      "Epoch 8/10\n",
      "500/500 [==============================] - 83s 165ms/step - loss: 1.3713 - accuracy: 0.5077 - val_loss: 1.3127 - val_accuracy: 0.5326\n",
      "Epoch 9/10\n",
      "500/500 [==============================] - 82s 164ms/step - loss: 1.3352 - accuracy: 0.5243 - val_loss: 1.3159 - val_accuracy: 0.5310\n",
      "Epoch 10/10\n",
      "500/500 [==============================] - 82s 165ms/step - loss: 1.3024 - accuracy: 0.5365 - val_loss: 1.2611 - val_accuracy: 0.5524\n"
     ]
    }
   ],
   "source": [
    "history=model.fit(x_train, y_train,batch_size=batch_size,epochs=epochs,verbose=1,validation_data=(x_test, y_test))"
   ]
  },
  {
   "cell_type": "code",
   "execution_count": 108,
   "metadata": {},
   "outputs": [],
   "source": [
    "#  61 % Accuracy on the test set which used as the validation data with LeNet without data Augmentation.Using Adam optimiser.\n",
    "# 55.24% using SGD."
   ]
  },
  {
   "cell_type": "code",
   "execution_count": 109,
   "metadata": {},
   "outputs": [],
   "source": [
    "#Nows lets compare this accuracy, with the accuracy after Data augmentation ,by flipping the images."
   ]
  },
  {
   "cell_type": "code",
   "execution_count": 15,
   "metadata": {},
   "outputs": [
    {
     "data": {
      "text/plain": [
       "(50000, 32, 32, 3)"
      ]
     },
     "execution_count": 15,
     "metadata": {},
     "output_type": "execute_result"
    }
   ],
   "source": [
    "x_train.shape"
   ]
  },
  {
   "cell_type": "code",
   "execution_count": 21,
   "metadata": {},
   "outputs": [],
   "source": [
    "from keras.callbacks import LearningRateScheduler, TensorBoard\n",
    "from keras.preprocessing.image import ImageDataGenerator"
   ]
  },
  {
   "cell_type": "code",
   "execution_count": 22,
   "metadata": {},
   "outputs": [],
   "source": [
    "data_aug = ImageDataGenerator(horizontal_flip=True,width_shift_range=0.125,height_shift_range=0.125,fill_mode='constant',cval=0.)\n",
    "data_aug.fit(x_train)"
   ]
  },
  {
   "cell_type": "code",
   "execution_count": 23,
   "metadata": {},
   "outputs": [
    {
     "name": "stdout",
     "output_type": "stream",
     "text": [
      "WARNING:tensorflow:From <ipython-input-23-b2a352a54b3f>:2: Model.fit_generator (from tensorflow.python.keras.engine.training) is deprecated and will be removed in a future version.\n",
      "Instructions for updating:\n",
      "Please use Model.fit, which supports generators.\n",
      "Epoch 1/10\n",
      "391/391 [==============================] - 59s 151ms/step - loss: 1.4656 - accuracy: 0.4699 - val_loss: 1.2720 - val_accuracy: 0.5483\n",
      "Epoch 2/10\n",
      "391/391 [==============================] - 82s 210ms/step - loss: 1.4273 - accuracy: 0.4850 - val_loss: 1.2656 - val_accuracy: 0.5498\n",
      "Epoch 3/10\n",
      "391/391 [==============================] - 82s 209ms/step - loss: 1.4166 - accuracy: 0.4944 - val_loss: 1.2931 - val_accuracy: 0.5395\n",
      "Epoch 4/10\n",
      "391/391 [==============================] - 84s 215ms/step - loss: 1.3943 - accuracy: 0.5004 - val_loss: 1.2274 - val_accuracy: 0.5668\n",
      "Epoch 5/10\n",
      "391/391 [==============================] - 84s 215ms/step - loss: 1.3727 - accuracy: 0.5099 - val_loss: 1.2570 - val_accuracy: 0.5548\n",
      "Epoch 6/10\n",
      "391/391 [==============================] - 83s 212ms/step - loss: 1.3620 - accuracy: 0.5141 - val_loss: 1.2101 - val_accuracy: 0.5696\n",
      "Epoch 7/10\n",
      "391/391 [==============================] - 82s 209ms/step - loss: 1.3441 - accuracy: 0.5196 - val_loss: 1.2144 - val_accuracy: 0.5707\n",
      "Epoch 8/10\n",
      "391/391 [==============================] - 85s 218ms/step - loss: 1.3319 - accuracy: 0.5272 - val_loss: 1.1948 - val_accuracy: 0.5812\n",
      "Epoch 9/10\n",
      "391/391 [==============================] - 82s 209ms/step - loss: 1.3141 - accuracy: 0.5320 - val_loss: 1.1843 - val_accuracy: 0.5851\n",
      "Epoch 10/10\n",
      "391/391 [==============================] - 82s 209ms/step - loss: 1.3049 - accuracy: 0.5387 - val_loss: 1.1697 - val_accuracy: 0.5877\n"
     ]
    },
    {
     "data": {
      "text/plain": [
       "<tensorflow.python.keras.callbacks.History at 0x1966a8f09e8>"
      ]
     },
     "execution_count": 23,
     "metadata": {},
     "output_type": "execute_result"
    }
   ],
   "source": [
    "model.fit_generator(data_aug.flow(x_train, y_train,batch_size=batch_size),steps_per_epoch=391,\n",
    "                        epochs=epochs,validation_data=(x_test, y_test))"
   ]
  },
  {
   "cell_type": "code",
   "execution_count": null,
   "metadata": {},
   "outputs": [],
   "source": [
    "# 58.77 with data augmentation. This has increased the accuracy by about 3%.\n",
    "# This can be improved . Check the code below."
   ]
  },
  {
   "cell_type": "code",
   "execution_count": 24,
   "metadata": {},
   "outputs": [],
   "source": [
    "data_aug2 = ImageDataGenerator(featurewise_center=False,  samplewise_center=False,  \n",
    "        featurewise_std_normalization=False, \n",
    "        samplewise_std_normalization=False,  # divide each input by its std\n",
    "        zca_whitening=False,  # apply ZCA whitening\n",
    "        rotation_range=10,  # randomly rotate images in the range (degrees, 0 to 180)\n",
    "        zoom_range = 0.1, # Randomly zoom image \n",
    "        width_shift_range=0.1,  # randomly shift images horizontally (fraction of total width)\n",
    "        height_shift_range=0.1,  # randomly shift images vertically (fraction of total height)\n",
    "        horizontal_flip=False,  # randomly flip images\n",
    "        vertical_flip=False)  # randomly flip images\n",
    "\n",
    "\n",
    "data_aug2.fit(x_train)"
   ]
  },
  {
   "cell_type": "code",
   "execution_count": 25,
   "metadata": {},
   "outputs": [
    {
     "name": "stdout",
     "output_type": "stream",
     "text": [
      "Epoch 1/10\n",
      "391/391 [==============================] - 86s 219ms/step - loss: 1.2695 - accuracy: 0.5476 - val_loss: 1.1664 - val_accuracy: 0.5831\n",
      "Epoch 2/10\n",
      "391/391 [==============================] - 86s 220ms/step - loss: 1.2535 - accuracy: 0.5558 - val_loss: 1.1336 - val_accuracy: 0.5957\n",
      "Epoch 3/10\n",
      "391/391 [==============================] - 86s 220ms/step - loss: 1.2374 - accuracy: 0.5614 - val_loss: 1.1383 - val_accuracy: 0.5980\n",
      "Epoch 4/10\n",
      "391/391 [==============================] - 86s 220ms/step - loss: 1.2235 - accuracy: 0.5666 - val_loss: 1.0956 - val_accuracy: 0.6114\n",
      "Epoch 5/10\n",
      "391/391 [==============================] - 86s 219ms/step - loss: 1.2143 - accuracy: 0.5702 - val_loss: 1.0886 - val_accuracy: 0.6171\n",
      "Epoch 6/10\n",
      "391/391 [==============================] - 85s 218ms/step - loss: 1.2013 - accuracy: 0.5739 - val_loss: 1.0973 - val_accuracy: 0.6121\n",
      "Epoch 7/10\n",
      "391/391 [==============================] - 86s 220ms/step - loss: 1.1938 - accuracy: 0.5768 - val_loss: 1.1953 - val_accuracy: 0.5827\n",
      "Epoch 8/10\n",
      "391/391 [==============================] - 86s 219ms/step - loss: 1.1886 - accuracy: 0.5823 - val_loss: 1.0819 - val_accuracy: 0.6175\n",
      "Epoch 9/10\n",
      "391/391 [==============================] - 85s 218ms/step - loss: 1.1676 - accuracy: 0.5874 - val_loss: 1.0394 - val_accuracy: 0.6353\n",
      "Epoch 10/10\n",
      "391/391 [==============================] - 85s 218ms/step - loss: 1.1656 - accuracy: 0.5851 - val_loss: 1.0759 - val_accuracy: 0.6245\n"
     ]
    },
    {
     "data": {
      "text/plain": [
       "<tensorflow.python.keras.callbacks.History at 0x196094a15c0>"
      ]
     },
     "execution_count": 25,
     "metadata": {},
     "output_type": "execute_result"
    }
   ],
   "source": [
    "model.fit_generator(data_aug2.flow(x_train, y_train,batch_size=batch_size),steps_per_epoch=391,\n",
    "                        epochs=epochs,validation_data=(x_test, y_test))"
   ]
  },
  {
   "cell_type": "code",
   "execution_count": null,
   "metadata": {},
   "outputs": [],
   "source": [
    "#Accuracy has increased to 62.45% after data augmentation."
   ]
  }
 ],
 "metadata": {
  "kernelspec": {
   "display_name": "Python 3",
   "language": "python",
   "name": "python3"
  },
  "language_info": {
   "codemirror_mode": {
    "name": "ipython",
    "version": 3
   },
   "file_extension": ".py",
   "mimetype": "text/x-python",
   "name": "python",
   "nbconvert_exporter": "python",
   "pygments_lexer": "ipython3",
   "version": "3.7.3"
  }
 },
 "nbformat": 4,
 "nbformat_minor": 2
}
